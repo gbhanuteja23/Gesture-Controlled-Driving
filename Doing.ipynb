{
 "cells": [
  {
   "cell_type": "code",
   "execution_count": 2,
   "metadata": {},
   "outputs": [],
   "source": [
    "from imutils.video import VideoStream\n",
    "import numpy as np\n",
    "\n",
    "import cv2\n",
    "import imutils\n",
    "import time"
   ]
  },
  {
   "cell_type": "code",
   "execution_count": 7,
   "metadata": {},
   "outputs": [],
   "source": [
    "path_vid = 'Material/Driving Car.mkv'\n",
    "\n",
    "# video = VideoStream(src=path_vid).start()\n",
    " \n",
    "# # allow the camera or video file to warm up\n",
    "# time.sleep(2.0)\n",
    "# initial = True\n",
    "# flag = False\n",
    "# current_key_pressed = set()\n",
    "# circle_radius = 30"
   ]
  },
  {
   "cell_type": "code",
   "execution_count": 3,
   "metadata": {},
   "outputs": [],
   "source": [
    "from imutils.video import FileVideoStream\n",
    "from imutils.video import FPS\n",
    "import numpy as np\n",
    "import argparse\n",
    "import imutils\n",
    "import time\n",
    "import cv2"
   ]
  },
  {
   "cell_type": "code",
   "execution_count": 12,
   "metadata": {},
   "outputs": [],
   "source": [
    "fvs = FileVideoStream(path_vid).start()\n",
    "time.sleep(1.0)\n",
    "\n",
    "while True:\n",
    "    frame = fvs.read()\n",
    "    \n",
    "    if frame is None:\n",
    "        break\n",
    "        \n",
    "    frame = imutils.resize(frame, width=450)\n",
    "    cv2.imshow('Vid', frame)\n",
    "     \n",
    "    if cv2.waitKey(1) == 13: #13 is the Enter Key\n",
    "        break\n",
    "    \n",
    "cv2.destroyAllWindows()"
   ]
  },
  {
   "cell_type": "code",
   "execution_count": null,
   "metadata": {},
   "outputs": [],
   "source": []
  },
  {
   "cell_type": "code",
   "execution_count": 14,
   "metadata": {},
   "outputs": [],
   "source": [
    "import cv2\n",
    "import numpy as np\n",
    "\n",
    "hand_cascade = cv2.CascadeClassifier('Material/hand.xml')\n",
    "count = 0\n",
    "\n",
    "fvs = FileVideoStream(path_vid).start()\n",
    "time.sleep(1.0)\n",
    "\n",
    "while True:\n",
    "    frame = fvs.read()\n",
    "    \n",
    "    if frame is None:\n",
    "        break\n",
    "        \n",
    "    frame = imutils.resize(frame, width=450)\n",
    "    gray = cv2.cvtColor(frame, cv2.COLOR_BGR2GRAY)\n",
    "    hands = hand_cascade.detectMultiScale(gray, 1.5, 2)\n",
    "    contour = hands\n",
    "    contour = np.array(contour)\n",
    "\n",
    "    if count==0:\n",
    "\n",
    "        if len(contour)==2:\n",
    "            cv2.putText(img=frame, text='Your engine started', org=(int(100 / 2 - 20), int(100 / 2)),\n",
    "                        fontFace=cv2.FONT_HERSHEY_DUPLEX, fontScale=1,\n",
    "                        color=(0, 255, 0))\n",
    "            for (x, y, w, h) in hands:\n",
    "                cv2.rectangle(frame, (x, y), (x + w, y + h), (0, 255, 0), 2)\n",
    "\n",
    "    if count>0:\n",
    "\n",
    "        if len(contour)>=2:\n",
    "            cv2.putText(img=frame, text='You can take your car on long drive', org=(int(100 / 2 - 20), int(100 / 2)),\n",
    "                        fontFace=cv2.FONT_HERSHEY_DUPLEX, fontScale=1,\n",
    "                        color=(255, 0, 0))\n",
    "            for (x, y, w, h) in hands:\n",
    "                cv2.rectangle(frame, (x, y), (x + w, y + h), (0, 255, 0), 2)\n",
    "\n",
    "        elif len(contour)==1:\n",
    "            cv2.putText(img=frame, text='You can speed upto 80km/h', org=(int(100 / 2 - 20), int(100 / 2)),\n",
    "                        fontFace=cv2.FONT_HERSHEY_DUPLEX, fontScale=1,\n",
    "                        color=(0, 255, 0))\n",
    "            for (x, y, w, h) in hands:\n",
    "                cv2.rectangle(frame, (x, y), (x + w, y + h), (0, 255, 0), 2)\n",
    "\n",
    "        elif len(contour)==0:\n",
    "            cv2.putText(img=frame, text='Brake is applied slowly', org=(int(100 / 2 - 20), int(100 / 2)),\n",
    "                        fontFace=cv2.FONT_HERSHEY_DUPLEX, fontScale=1,\n",
    "                        color=(0, 0, 255))\n",
    "\n",
    "\n",
    "    count+=1\n",
    "\n",
    "    cv2.imshow('Driver_frame', frame)\n",
    "    k = cv2.waitKey(30) & 0xff\n",
    "    if k == 27:\n",
    "        break\n",
    "\n",
    "\n",
    "cv2.destroyAllWindows()\n",
    "fvs.stop()"
   ]
  },
  {
   "cell_type": "code",
   "execution_count": null,
   "metadata": {},
   "outputs": [],
   "source": []
  }
 ],
 "metadata": {
  "kernelspec": {
   "display_name": "Python 3",
   "language": "python",
   "name": "python3"
  },
  "language_info": {
   "codemirror_mode": {
    "name": "ipython",
    "version": 3
   },
   "file_extension": ".py",
   "mimetype": "text/x-python",
   "name": "python",
   "nbconvert_exporter": "python",
   "pygments_lexer": "ipython3",
   "version": "3.7.5"
  }
 },
 "nbformat": 4,
 "nbformat_minor": 2
}
